{
  "cells": [
    {
      "cell_type": "code",
      "execution_count": null,
      "metadata": {
        "colab": {
          "base_uri": "https://localhost:8080/"
        },
        "id": "EbZCCnF6HjRq",
        "outputId": "9b6d24de-208a-43a5-83c3-396fce3dae97"
      },
      "outputs": [
        {
          "name": "stdout",
          "output_type": "stream",
          "text": [
            "Mounted at /content/drive\n"
          ]
        }
      ],
      "source": [
        "from google.colab import drive\n",
        "drive.mount('/content/drive')"
      ]
    },
    {
      "cell_type": "code",
      "execution_count": null,
      "metadata": {
        "id": "l8rT7lJ6HvW8"
      },
      "outputs": [],
      "source": [
        "import tensorflow as tf\n",
        "from glob import glob\n",
        "import numpy as np\n",
        "\n",
        "# Data\n",
        "from sklearn.model_selection import train_test_split\n",
        "import cv2\n",
        "\n",
        "# Data visualization\n",
        "import matplotlib.pyplot as plt\n",
        "\n",
        "# Model\n",
        "from keras.models import Model\n",
        "from keras.layers import Input, Conv2D, MaxPooling2D, Conv2DTranspose, concatenate\n",
        "from keras.optimizers import Adam\n",
        "\n",
        "# Metrics\n",
        "from tensorflow.keras.metrics import *"
      ]
    },
    {
      "cell_type": "code",
      "execution_count": null,
      "metadata": {
        "id": "nEfxKBNHH7fb"
      },
      "outputs": [],
      "source": [
        "def load_image(path, size):\n",
        "    image = cv2.imread(path)\n",
        "    image = cv2.resize(image, (size,size))\n",
        "    image = cv2.cvtColor(image, cv2.COLOR_RGB2GRAY)   # shape: (size,size,3) -> (size,size,1)\n",
        "    image = image/255.   # normalize\n",
        "    return image\n",
        "\n",
        "def load_data(root_path, size):\n",
        "    images = []\n",
        "    masks = []\n",
        "\n",
        "    x = 0   # additional variable to identify images consisting of 2 or more masks\n",
        "\n",
        "    for path in sorted(glob(root_path)):\n",
        "        img = load_image(path, size)   # read mask or image\n",
        "\n",
        "        if 'mask' in path:\n",
        "            if x:   # this image has masks more than one\n",
        "                masks[-1] += img   # add the mask to the last mask\n",
        "\n",
        "                # When 2 masks are added, the range can increase by 0-2. So we will reduce it again to the range 0-1.\n",
        "                masks[-1] = np.array(masks[-1]>0.5, dtype='float64')\n",
        "            else:\n",
        "                masks.append(img)\n",
        "                x = 1   # if the image has a mask again, the above code will run next time\n",
        "        else:\n",
        "            images.append(img)\n",
        "            x = 0   # for moving to the next image\n",
        "    return np.array(images), np.array(masks)\n",
        "\n",
        "\n",
        "size = 128   # image size: 128x128\n",
        "X, y = load_data('/content/drive/MyDrive/Dataset_BUSI_with_GT/*/*', size)"
      ]
    },
    {
      "cell_type": "code",
      "execution_count": null,
      "metadata": {
        "colab": {
          "base_uri": "https://localhost:8080/"
        },
        "id": "gb_CdcuNIEjt",
        "outputId": "904b8e68-55ac-4822-9a66-aec854211d03"
      },
      "outputs": [
        {
          "name": "stdout",
          "output_type": "stream",
          "text": [
            "X shape: (647, 128, 128)     |  y shape: (647, 128, 128)\n",
            "\n",
            "X shape: (647, 128, 128, 1)  |  y shape: (647, 128, 128, 1)\n",
            "\u001b[92m\n",
            "X_train shape: (582, 128, 128, 1)\n",
            "y_train shape: (582, 128, 128, 1)\n",
            "X_test shape: (65, 128, 128, 1)\n",
            "y_test shape: (65, 128, 128, 1)\n"
          ]
        }
      ],
      "source": [
        "X = X[:647]\n",
        "y = y[:647]\n",
        "\n",
        "print(f\"X shape: {X.shape}     |  y shape: {y.shape}\")\n",
        "\n",
        "# prepare data to modeling\n",
        "X = np.expand_dims(X, -1)\n",
        "y = np.expand_dims(y, -1)\n",
        "\n",
        "print(f\"\\nX shape: {X.shape}  |  y shape: {y.shape}\")\n",
        "\n",
        "\n",
        "X_train, X_test, y_train, y_test = train_test_split(X, y, test_size=0.1)\n",
        "\n",
        "print(f'\\033[92m')\n",
        "print('X_train shape:',X_train.shape)\n",
        "print('y_train shape:',y_train.shape)\n",
        "print('X_test shape:',X_test.shape)\n",
        "print('y_test shape:',y_test.shape)"
      ]
    },
    {
      "cell_type": "code",
      "execution_count": null,
      "metadata": {
        "colab": {
          "base_uri": "https://localhost:8080/"
        },
        "id": "tA_-hocMIpDF",
        "outputId": "5669c077-8cb9-473a-e85c-b8107a213c7d"
      },
      "outputs": [
        {
          "name": "stdout",
          "output_type": "stream",
          "text": [
            "Model: \"U-Net\"\n",
            "__________________________________________________________________________________________________\n",
            " Layer (type)                Output Shape                 Param #   Connected to                  \n",
            "==================================================================================================\n",
            " input_1 (InputLayer)        [(None, 128, 128, 1)]        0         []                            \n",
            "                                                                                                  \n",
            " conv2d (Conv2D)             (None, 128, 128, 64)         640       ['input_1[0][0]']             \n",
            "                                                                                                  \n",
            " conv2d_1 (Conv2D)           (None, 128, 128, 64)         36928     ['conv2d[0][0]']              \n",
            "                                                                                                  \n",
            " max_pooling2d (MaxPooling2  (None, 64, 64, 64)           0         ['conv2d_1[0][0]']            \n",
            " D)                                                                                               \n",
            "                                                                                                  \n",
            " conv2d_2 (Conv2D)           (None, 64, 64, 128)          73856     ['max_pooling2d[0][0]']       \n",
            "                                                                                                  \n",
            " conv2d_3 (Conv2D)           (None, 64, 64, 128)          147584    ['conv2d_2[0][0]']            \n",
            "                                                                                                  \n",
            " max_pooling2d_1 (MaxPoolin  (None, 32, 32, 128)          0         ['conv2d_3[0][0]']            \n",
            " g2D)                                                                                             \n",
            "                                                                                                  \n",
            " conv2d_4 (Conv2D)           (None, 32, 32, 256)          295168    ['max_pooling2d_1[0][0]']     \n",
            "                                                                                                  \n",
            " conv2d_5 (Conv2D)           (None, 32, 32, 256)          590080    ['conv2d_4[0][0]']            \n",
            "                                                                                                  \n",
            " max_pooling2d_2 (MaxPoolin  (None, 16, 16, 256)          0         ['conv2d_5[0][0]']            \n",
            " g2D)                                                                                             \n",
            "                                                                                                  \n",
            " conv2d_6 (Conv2D)           (None, 16, 16, 512)          1180160   ['max_pooling2d_2[0][0]']     \n",
            "                                                                                                  \n",
            " conv2d_7 (Conv2D)           (None, 16, 16, 512)          2359808   ['conv2d_6[0][0]']            \n",
            "                                                                                                  \n",
            " max_pooling2d_3 (MaxPoolin  (None, 8, 8, 512)            0         ['conv2d_7[0][0]']            \n",
            " g2D)                                                                                             \n",
            "                                                                                                  \n",
            " conv2d_8 (Conv2D)           (None, 8, 8, 1024)           4719616   ['max_pooling2d_3[0][0]']     \n",
            "                                                                                                  \n",
            " conv2d_9 (Conv2D)           (None, 8, 8, 1024)           9438208   ['conv2d_8[0][0]']            \n",
            "                                                                                                  \n",
            " conv2d_transpose (Conv2DTr  (None, 16, 16, 512)          2097664   ['conv2d_9[0][0]']            \n",
            " anspose)                                                                                         \n",
            "                                                                                                  \n",
            " concatenate (Concatenate)   (None, 16, 16, 1024)         0         ['conv2d_transpose[0][0]',    \n",
            "                                                                     'conv2d_7[0][0]']            \n",
            "                                                                                                  \n",
            " conv2d_10 (Conv2D)          (None, 16, 16, 512)          4719104   ['concatenate[0][0]']         \n",
            "                                                                                                  \n",
            " conv2d_11 (Conv2D)          (None, 16, 16, 512)          2359808   ['conv2d_10[0][0]']           \n",
            "                                                                                                  \n",
            " conv2d_transpose_1 (Conv2D  (None, 32, 32, 256)          524544    ['conv2d_11[0][0]']           \n",
            " Transpose)                                                                                       \n",
            "                                                                                                  \n",
            " concatenate_1 (Concatenate  (None, 32, 32, 512)          0         ['conv2d_transpose_1[0][0]',  \n",
            " )                                                                   'conv2d_5[0][0]']            \n",
            "                                                                                                  \n",
            " conv2d_12 (Conv2D)          (None, 32, 32, 256)          1179904   ['concatenate_1[0][0]']       \n",
            "                                                                                                  \n",
            " conv2d_13 (Conv2D)          (None, 32, 32, 256)          590080    ['conv2d_12[0][0]']           \n",
            "                                                                                                  \n",
            " conv2d_transpose_2 (Conv2D  (None, 64, 64, 128)          131200    ['conv2d_13[0][0]']           \n",
            " Transpose)                                                                                       \n",
            "                                                                                                  \n",
            " concatenate_2 (Concatenate  (None, 64, 64, 256)          0         ['conv2d_transpose_2[0][0]',  \n",
            " )                                                                   'conv2d_3[0][0]']            \n",
            "                                                                                                  \n",
            " conv2d_14 (Conv2D)          (None, 64, 64, 128)          295040    ['concatenate_2[0][0]']       \n",
            "                                                                                                  \n",
            " conv2d_15 (Conv2D)          (None, 64, 64, 128)          147584    ['conv2d_14[0][0]']           \n",
            "                                                                                                  \n",
            " conv2d_transpose_3 (Conv2D  (None, 128, 128, 64)         32832     ['conv2d_15[0][0]']           \n",
            " Transpose)                                                                                       \n",
            "                                                                                                  \n",
            " concatenate_3 (Concatenate  (None, 128, 128, 128)        0         ['conv2d_transpose_3[0][0]',  \n",
            " )                                                                   'conv2d_1[0][0]']            \n",
            "                                                                                                  \n",
            " conv2d_16 (Conv2D)          (None, 128, 128, 64)         73792     ['concatenate_3[0][0]']       \n",
            "                                                                                                  \n",
            " conv2d_17 (Conv2D)          (None, 128, 128, 64)         36928     ['conv2d_16[0][0]']           \n",
            "                                                                                                  \n",
            " conv2d_18 (Conv2D)          (None, 128, 128, 1)          65        ['conv2d_17[0][0]']           \n",
            "                                                                                                  \n",
            "==================================================================================================\n",
            "Total params: 31030593 (118.37 MB)\n",
            "Trainable params: 31030593 (118.37 MB)\n",
            "Non-trainable params: 0 (0.00 Byte)\n",
            "__________________________________________________________________________________________________\n"
          ]
        }
      ],
      "source": [
        "def conv_block(input, num_filters):\n",
        "    conv = Conv2D(num_filters, (3, 3), activation=\"relu\", padding=\"same\", kernel_initializer='he_normal')(input)\n",
        "    conv = Conv2D(num_filters, (3, 3), activation=\"relu\", padding=\"same\", kernel_initializer='he_normal')(conv)\n",
        "    return conv\n",
        "\n",
        "def encoder_block(input, num_filters):\n",
        "    conv = conv_block(input, num_filters)\n",
        "    pool = MaxPooling2D((2, 2))(conv)\n",
        "    return conv, pool\n",
        "\n",
        "\n",
        "def decoder_block(input, skip_features, num_filters):\n",
        "    uconv = Conv2DTranspose(num_filters, (2, 2), strides=2, padding=\"same\")(input)\n",
        "    con = concatenate([uconv, skip_features])\n",
        "    conv = conv_block(con, num_filters)\n",
        "    return conv\n",
        "\n",
        "\n",
        "def build_model(input_shape):\n",
        "    input_layer = Input(input_shape)\n",
        "\n",
        "    s1, p1 = encoder_block(input_layer, 64)\n",
        "    s2, p2 = encoder_block(p1, 128)\n",
        "    s3, p3 = encoder_block(p2, 256)\n",
        "    s4, p4 = encoder_block(p3, 512)\n",
        "\n",
        "    b1 = conv_block(p4, 1024)\n",
        "\n",
        "    d1 = decoder_block(b1, s4, 512)\n",
        "    d2 = decoder_block(d1, s3, 256)\n",
        "    d3 = decoder_block(d2, s2, 128)\n",
        "    d4 = decoder_block(d3, s1, 64)\n",
        "\n",
        "    output_layer = Conv2D(1, 1, padding=\"same\", activation=\"sigmoid\")(d4)\n",
        "\n",
        "    model = Model(input_layer, output_layer, name=\"U-Net\")\n",
        "    return model\n",
        "\n",
        "model = build_model(input_shape=(size, size, 1))\n",
        "model.compile(loss=\"binary_crossentropy\", optimizer=\"Adam\", metrics=[\"accuracy\"])\n",
        "model.summary()"
      ]
    },
    {
      "cell_type": "code",
      "execution_count": null,
      "metadata": {
        "colab": {
          "background_save": true,
          "base_uri": "https://localhost:8080/"
        },
        "id": "10TZLWwuJM6l",
        "outputId": "2fe73f95-a421-49ce-d7de-bbe535f49603"
      },
      "outputs": [
        {
          "name": "stdout",
          "output_type": "stream",
          "text": [
            "Epoch 1/30\n",
            "19/19 [==============================] - 1117s 58s/step - loss: 0.4386 - accuracy: 0.9040 - val_loss: 0.4195 - val_accuracy: 0.8931\n",
            "Epoch 2/30\n",
            "19/19 [==============================] - 1092s 57s/step - loss: 0.3608 - accuracy: 0.9056 - val_loss: 0.3569 - val_accuracy: 0.8931\n",
            "Epoch 3/30\n",
            "19/19 [==============================] - 1101s 58s/step - loss: 0.3013 - accuracy: 0.9056 - val_loss: 0.3092 - val_accuracy: 0.8931\n",
            "Epoch 4/30\n",
            " 5/19 [======>.......................] - ETA: 13:40 - loss: 0.3156 - accuracy: 0.8986"
          ]
        }
      ],
      "source": [
        "history = model.fit(X_train, y_train, epochs = 30, validation_data = (X_test,y_test))"
      ]
    },
    {
      "cell_type": "code",
      "execution_count": null,
      "metadata": {
        "id": "XuOlyViRJT1b"
      },
      "outputs": [],
      "source": [
        "fig, ax = plt.subplots(1, 2, figsize=(10,3))\n",
        "ax[0].plot(history.epoch, history.history[\"loss\"], label=\"Train loss\")\n",
        "ax[0].plot(history.epoch, history.history[\"val_loss\"], label=\"Validation loss\")\n",
        "ax[0].legend()\n",
        "ax[1].plot(history.epoch, history.history[\"accuracy\"], label=\"Train accuracy\")\n",
        "ax[1].plot(history.epoch, history.history[\"val_accuracy\"], label=\"Validation accuracy\")\n",
        "ax[1].legend()\n",
        "fig.suptitle('Loss and Accuracy', fontsize=16)\n",
        "plt.show()"
      ]
    },
    {
      "cell_type": "code",
      "execution_count": null,
      "metadata": {
        "id": "GJrP1364JUlw"
      },
      "outputs": [],
      "source": [
        "fig, ax = plt.subplots(5,3, figsize=(10,18))\n",
        "\n",
        "j = np.random.randint(0, X_test.shape[0], 5)\n",
        "for i in range(5):\n",
        "    ax[i,0].imshow(X_test[j[i]], cmap='gray')\n",
        "    ax[i,0].set_title('Image')\n",
        "    ax[i,1].imshow(y_test[j[i]], cmap='gray')\n",
        "    ax[i,1].set_title('Mask')\n",
        "    ax[i,2].imshow(model.predict(np.expand_dims(X_test[j[i]],0),verbose=0)[0], cmap='gray')\n",
        "    ax[i,2].set_title('Prediction')\n",
        "fig.suptitle('Results', fontsize=16)\n",
        "plt.show()"
      ]
    }
  ],
  "metadata": {
    "colab": {
      "provenance": []
    },
    "kernelspec": {
      "display_name": "Python 3",
      "name": "python3"
    },
    "language_info": {
      "name": "python"
    }
  },
  "nbformat": 4,
  "nbformat_minor": 0
}